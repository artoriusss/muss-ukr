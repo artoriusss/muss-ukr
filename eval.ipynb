{
 "cells": [
  {
   "cell_type": "code",
   "execution_count": 3,
   "metadata": {},
   "outputs": [
    {
     "name": "stdout",
     "output_type": "stream",
     "text": [
      "Note: you may need to restart the kernel to use updated packages.\n",
      "/bin/bash: pip: command not found\n"
     ]
    }
   ],
   "source": [
    "%pip install -q -U transformers\n",
    "!git clone https://github.com/olgakanishcheva/Ukrainian-Text-Simplification.git -q\n",
    "!git clone http://github.com/feralvam/easse.git -q\n",
    "!cd easse && pip install . -q"
   ]
  },
  {
   "cell_type": "code",
   "execution_count": 2,
   "metadata": {},
   "outputs": [
    {
     "name": "stderr",
     "output_type": "stream",
     "text": [
      "/home/artorius/miniconda3/envs/muss_env/lib/python3.7/site-packages/tqdm/auto.py:21: TqdmWarning: IProgress not found. Please update jupyter and ipywidgets. See https://ipywidgets.readthedocs.io/en/stable/user_install.html\n",
      "  from .autonotebook import tqdm as notebook_tqdm\n"
     ]
    }
   ],
   "source": [
    "import torch\n",
    "import html\n",
    "import os\n",
    "from easse.sari import corpus_sari\n",
    "from easse.bleu import corpus_bleu\n",
    "from easse.fkgl import corpus_fkgl"
   ]
  },
  {
   "cell_type": "code",
   "execution_count": 3,
   "metadata": {},
   "outputs": [],
   "source": [
    "data_dir='ASSETUKR/'\n",
    "input_dir= 'simplified/'\n",
    "dpl = os.path.join(input_dir,'muss-uk-dpl.txt')\n",
    "gt = os.path.join(input_dir,'muss-uk-gt.txt')\n",
    "sher = os.path.join(input_dir,'sherlock.txt')\n",
    "sher_1st = os.path.join(input_dir,'sherlock-1st-sent.txt')\n",
    "sher_tuned = os.path.join(input_dir,'sherlock-tuned.txt')\n",
    "sher_tuned_1st = os.path.join(input_dir,'sherlock-tuned-1st-sent.txt')\n",
    "spivavtor = os.path.join(input_dir,'spivavtor.txt')\n",
    "spivavtor_tuned = os.path.join(input_dir,'spivavtor-tuned.txt')"
   ]
  },
  {
   "cell_type": "code",
   "execution_count": 4,
   "metadata": {},
   "outputs": [],
   "source": [
    "def get_dataset(split, root_dir):\n",
    "    orig_file = os.path.join(data_dir, f\"asset.{split}.orig_uk.txt\")\n",
    "    simp_files = [os.path.join(data_dir, f\"asset.{split}.simp.{i}_uk.txt\") for i in range(10)]\n",
    "\n",
    "    with open(orig_file, \"r\", encoding=\"utf-8\") as orig_f:\n",
    "        originals = [line.strip() for line in orig_f]\n",
    "\n",
    "    simplifications = []\n",
    "    for simp_file in simp_files:\n",
    "        with open(simp_file, \"r\", encoding=\"utf-8\") as simp_f:\n",
    "            smp = [line.strip() for line in simp_f]\n",
    "            # Select only simplifications which length match the original file length\n",
    "            if len(smp) == len(originals):\n",
    "                simplifications.append(smp)\n",
    "                \n",
    "    return (originals, simplifications)"
   ]
  },
  {
   "cell_type": "code",
   "execution_count": 5,
   "metadata": {},
   "outputs": [],
   "source": [
    "originals, simplifications = get_dataset('test', data_dir)"
   ]
  },
  {
   "cell_type": "code",
   "execution_count": 6,
   "metadata": {},
   "outputs": [],
   "source": [
    "def file_to_list(file_path):\n",
    "    output=[]\n",
    "    with open(file_path,'r') as file:\n",
    "        return [line.strip() for line in file]"
   ]
  },
  {
   "cell_type": "code",
   "execution_count": 15,
   "metadata": {},
   "outputs": [],
   "source": [
    "generates_results={\n",
    "    # 'muss-dpl': file_to_list(dpl),\n",
    "    # 'muss-gt': file_to_list(gt),\n",
    "    # 'sherlock': file_to_list(sher),\n",
    "    'sherlock-tuned': file_to_list(sher_tuned),\n",
    "    'sherlock-tuned-1st-sent': file_to_list(sher_tuned_1st),\n",
    "    'sherlock-1st-sent': file_to_list(sher_1st),\n",
    "    'sherlock': file_to_list(sher),\n",
    "    \n",
    "    # 'spivavtor': file_to_list(spivavtor),\n",
    "    # 'spivavtor-tuned': file_to_list(spivavtor_tuned)\n",
    "}"
   ]
  },
  {
   "cell_type": "code",
   "execution_count": 13,
   "metadata": {},
   "outputs": [
    {
     "name": "stdout",
     "output_type": "stream",
     "text": [
      "dpl Sari score: 43.98811096581827\n",
      "dpl BLEU Score: 49.88772290416101\n",
      "\n",
      "gt Sari score: 43.047427749745246\n",
      "gt BLEU Score: 43.07935504129747\n",
      "\n"
     ]
    }
   ],
   "source": [
    "for key, value in generates_results.items():\n",
    "    sari_score = corpus_sari(orig_sents=originals,  \n",
    "            sys_sents=value, \n",
    "            refs_sents=simplifications)\n",
    "    bleu_score = corpus_bleu(\n",
    "        sys_sents=value, \n",
    "        refs_sents=simplifications)\n",
    "    print(f'{key} Sari score: {sari_score}') \n",
    "    print(f'{key} BLEU Score: {bleu_score}\\n')\n",
    "    # TODO: self-Bleu score\n",
    "    # TODO: BertScore"
   ]
  },
  {
   "cell_type": "code",
   "execution_count": 8,
   "metadata": {},
   "outputs": [
    {
     "data": {
      "text/plain": [
       "359"
      ]
     },
     "execution_count": 8,
     "metadata": {},
     "output_type": "execute_result"
    }
   ],
   "source": [
    "len(generates_results['sherlock-tuned'])"
   ]
  },
  {
   "cell_type": "code",
   "execution_count": 16,
   "metadata": {},
   "outputs": [],
   "source": [
    "import pandas as pd\n",
    "\n",
    "df = pd.DataFrame(columns=['Model', 'SARI', 'BLEU'])\n",
    "for key, value in generates_results.items():\n",
    "    sari_score = corpus_sari(orig_sents=originals,  \n",
    "            sys_sents=value, \n",
    "            refs_sents=simplifications)\n",
    "    bleu_score = corpus_bleu(\n",
    "        sys_sents=value, \n",
    "        refs_sents=simplifications)\n",
    "    df = df.append({'Model': key, 'SARI': sari_score, 'BLEU': bleu_score}, ignore_index=True)"
   ]
  },
  {
   "cell_type": "code",
   "execution_count": 17,
   "metadata": {},
   "outputs": [
    {
     "data": {
      "text/html": [
       "<div>\n",
       "<style scoped>\n",
       "    .dataframe tbody tr th:only-of-type {\n",
       "        vertical-align: middle;\n",
       "    }\n",
       "\n",
       "    .dataframe tbody tr th {\n",
       "        vertical-align: top;\n",
       "    }\n",
       "\n",
       "    .dataframe thead th {\n",
       "        text-align: right;\n",
       "    }\n",
       "</style>\n",
       "<table border=\"1\" class=\"dataframe\">\n",
       "  <thead>\n",
       "    <tr style=\"text-align: right;\">\n",
       "      <th></th>\n",
       "      <th>Model</th>\n",
       "      <th>SARI</th>\n",
       "      <th>BLEU</th>\n",
       "    </tr>\n",
       "  </thead>\n",
       "  <tbody>\n",
       "    <tr>\n",
       "      <th>0</th>\n",
       "      <td>sherlock-tuned</td>\n",
       "      <td>29.026455</td>\n",
       "      <td>13.920342</td>\n",
       "    </tr>\n",
       "    <tr>\n",
       "      <th>1</th>\n",
       "      <td>sherlock-tuned-1st-sent</td>\n",
       "      <td>31.511215</td>\n",
       "      <td>70.734145</td>\n",
       "    </tr>\n",
       "    <tr>\n",
       "      <th>2</th>\n",
       "      <td>sherlock-1st-sent</td>\n",
       "      <td>41.703331</td>\n",
       "      <td>37.078327</td>\n",
       "    </tr>\n",
       "    <tr>\n",
       "      <th>3</th>\n",
       "      <td>sherlock</td>\n",
       "      <td>41.678223</td>\n",
       "      <td>32.507096</td>\n",
       "    </tr>\n",
       "  </tbody>\n",
       "</table>\n",
       "</div>"
      ],
      "text/plain": [
       "                     Model       SARI       BLEU\n",
       "0           sherlock-tuned  29.026455  13.920342\n",
       "1  sherlock-tuned-1st-sent  31.511215  70.734145\n",
       "2        sherlock-1st-sent  41.703331  37.078327\n",
       "3                 sherlock  41.678223  32.507096"
      ]
     },
     "execution_count": 17,
     "metadata": {},
     "output_type": "execute_result"
    }
   ],
   "source": [
    "df"
   ]
  },
  {
   "cell_type": "code",
   "execution_count": 18,
   "metadata": {},
   "outputs": [
    {
     "name": "stderr",
     "output_type": "stream",
     "text": [
      "Some weights of the model checkpoint at roberta-large were not used when initializing RobertaModel: ['lm_head.dense.bias', 'lm_head.layer_norm.weight', 'lm_head.bias', 'lm_head.dense.weight', 'lm_head.layer_norm.bias']\n",
      "- This IS expected if you are initializing RobertaModel from the checkpoint of a model trained on another task or with another architecture (e.g. initializing a BertForSequenceClassification model from a BertForPreTraining model).\n",
      "- This IS NOT expected if you are initializing RobertaModel from the checkpoint of a model that you expect to be exactly identical (initializing a BertForSequenceClassification model from a BertForSequenceClassification model).\n",
      "Some weights of RobertaModel were not initialized from the model checkpoint at roberta-large and are newly initialized: ['roberta.pooler.dense.bias', 'roberta.pooler.dense.weight']\n",
      "You should probably TRAIN this model on a down-stream task to be able to use it for predictions and inference.\n"
     ]
    },
    {
     "name": "stdout",
     "output_type": "stream",
     "text": [
      "sherlock-tuned BERTScore: (Precision: 0.16594374179840088, Recall: 0.4190678596496582, F1: 0.27975913882255554)\n",
      "\n"
     ]
    },
    {
     "name": "stderr",
     "output_type": "stream",
     "text": [
      "Some weights of the model checkpoint at roberta-large were not used when initializing RobertaModel: ['lm_head.dense.bias', 'lm_head.layer_norm.weight', 'lm_head.bias', 'lm_head.dense.weight', 'lm_head.layer_norm.bias']\n",
      "- This IS expected if you are initializing RobertaModel from the checkpoint of a model trained on another task or with another architecture (e.g. initializing a BertForSequenceClassification model from a BertForPreTraining model).\n",
      "- This IS NOT expected if you are initializing RobertaModel from the checkpoint of a model that you expect to be exactly identical (initializing a BertForSequenceClassification model from a BertForSequenceClassification model).\n",
      "Some weights of RobertaModel were not initialized from the model checkpoint at roberta-large and are newly initialized: ['roberta.pooler.dense.bias', 'roberta.pooler.dense.weight']\n",
      "You should probably TRAIN this model on a down-stream task to be able to use it for predictions and inference.\n"
     ]
    },
    {
     "name": "stdout",
     "output_type": "stream",
     "text": [
      "sherlock-tuned-1st-sent BERTScore: (Precision: 0.8363061547279358, Recall: 0.8178226351737976, F1: 0.8175695538520813)\n",
      "\n"
     ]
    },
    {
     "name": "stderr",
     "output_type": "stream",
     "text": [
      "Some weights of the model checkpoint at roberta-large were not used when initializing RobertaModel: ['lm_head.dense.bias', 'lm_head.layer_norm.weight', 'lm_head.bias', 'lm_head.dense.weight', 'lm_head.layer_norm.bias']\n",
      "- This IS expected if you are initializing RobertaModel from the checkpoint of a model trained on another task or with another architecture (e.g. initializing a BertForSequenceClassification model from a BertForPreTraining model).\n",
      "- This IS NOT expected if you are initializing RobertaModel from the checkpoint of a model that you expect to be exactly identical (initializing a BertForSequenceClassification model from a BertForSequenceClassification model).\n",
      "Some weights of RobertaModel were not initialized from the model checkpoint at roberta-large and are newly initialized: ['roberta.pooler.dense.bias', 'roberta.pooler.dense.weight']\n",
      "You should probably TRAIN this model on a down-stream task to be able to use it for predictions and inference.\n"
     ]
    },
    {
     "name": "stdout",
     "output_type": "stream",
     "text": [
      "sherlock-1st-sent BERTScore: (Precision: 0.7422866225242615, Recall: 0.7179567813873291, F1: 0.7177876234054565)\n",
      "\n"
     ]
    },
    {
     "name": "stderr",
     "output_type": "stream",
     "text": [
      "Some weights of the model checkpoint at roberta-large were not used when initializing RobertaModel: ['lm_head.dense.bias', 'lm_head.layer_norm.weight', 'lm_head.bias', 'lm_head.dense.weight', 'lm_head.layer_norm.bias']\n",
      "- This IS expected if you are initializing RobertaModel from the checkpoint of a model trained on another task or with another architecture (e.g. initializing a BertForSequenceClassification model from a BertForPreTraining model).\n",
      "- This IS NOT expected if you are initializing RobertaModel from the checkpoint of a model that you expect to be exactly identical (initializing a BertForSequenceClassification model from a BertForSequenceClassification model).\n",
      "Some weights of RobertaModel were not initialized from the model checkpoint at roberta-large and are newly initialized: ['roberta.pooler.dense.bias', 'roberta.pooler.dense.weight']\n",
      "You should probably TRAIN this model on a down-stream task to be able to use it for predictions and inference.\n"
     ]
    },
    {
     "name": "stdout",
     "output_type": "stream",
     "text": [
      "sherlock BERTScore: (Precision: 0.7279994487762451, Recall: 0.7185714244842529, F1: 0.710978090763092)\n",
      "\n"
     ]
    }
   ],
   "source": [
    "from easse.bertscore import corpus_bertscore\n",
    "\n",
    "# Assume `df` is your DataFrame and `generates_results` is a dictionary containing generated results\n",
    "\n",
    "# Ensure your DataFrame has the necessary columns for BERTScore\n",
    "if 'BERT_Precision' not in df.columns:\n",
    "    df['BERT_Precision'] = None\n",
    "if 'BERT_Recall' not in df.columns:\n",
    "    df['BERT_Recall'] = None\n",
    "if 'BERT_F1' not in df.columns:\n",
    "    df['BERT_F1'] = None\n",
    "\n",
    "# Loop through the generated results and calculate BERTScore\n",
    "for key, value in generates_results.items():\n",
    "    precision, recall, f1 = corpus_bertscore(sys_sents=value, refs_sents=simplifications)\n",
    "    print(f'{key} BERTScore: (Precision: {precision}, Recall: {recall}, F1: {f1})\\n')\n",
    "    \n",
    "    # Update the DataFrame with calculated values\n",
    "    df.loc[df['Model'] == key, 'BERT_Precision'] = precision\n",
    "    df.loc[df['Model'] == key, 'BERT_Recall'] = recall\n",
    "    df.loc[df['Model'] == key, 'BERT_F1'] = f1"
   ]
  },
  {
   "cell_type": "code",
   "execution_count": 16,
   "metadata": {},
   "outputs": [],
   "source": [
    "precision_dpl, recall_dpl, f1_dpl = precision, recall, f1"
   ]
  },
  {
   "cell_type": "code",
   "execution_count": 18,
   "metadata": {},
   "outputs": [],
   "source": [
    "fkgl_dpl = corpus_fkgl(generates_results['dpl'])"
   ]
  },
  {
   "cell_type": "code",
   "execution_count": 19,
   "metadata": {},
   "outputs": [
    {
     "data": {
      "text/html": [
       "<div>\n",
       "<style scoped>\n",
       "    .dataframe tbody tr th:only-of-type {\n",
       "        vertical-align: middle;\n",
       "    }\n",
       "\n",
       "    .dataframe tbody tr th {\n",
       "        vertical-align: top;\n",
       "    }\n",
       "\n",
       "    .dataframe thead th {\n",
       "        text-align: right;\n",
       "    }\n",
       "</style>\n",
       "<table border=\"1\" class=\"dataframe\">\n",
       "  <thead>\n",
       "    <tr style=\"text-align: right;\">\n",
       "      <th></th>\n",
       "      <th>Model</th>\n",
       "      <th>SARI</th>\n",
       "      <th>BLEU</th>\n",
       "      <th>BERT_Precision</th>\n",
       "      <th>BERT_Recall</th>\n",
       "      <th>BERT_F1</th>\n",
       "    </tr>\n",
       "  </thead>\n",
       "  <tbody>\n",
       "    <tr>\n",
       "      <th>0</th>\n",
       "      <td>sherlock-tuned</td>\n",
       "      <td>29.026455</td>\n",
       "      <td>13.920342</td>\n",
       "      <td>0.165944</td>\n",
       "      <td>0.419068</td>\n",
       "      <td>0.279759</td>\n",
       "    </tr>\n",
       "    <tr>\n",
       "      <th>1</th>\n",
       "      <td>sherlock-tuned-1st-sent</td>\n",
       "      <td>31.511215</td>\n",
       "      <td>70.734145</td>\n",
       "      <td>0.836306</td>\n",
       "      <td>0.817823</td>\n",
       "      <td>0.81757</td>\n",
       "    </tr>\n",
       "    <tr>\n",
       "      <th>2</th>\n",
       "      <td>sherlock-1st-sent</td>\n",
       "      <td>41.703331</td>\n",
       "      <td>37.078327</td>\n",
       "      <td>0.742287</td>\n",
       "      <td>0.717957</td>\n",
       "      <td>0.717788</td>\n",
       "    </tr>\n",
       "    <tr>\n",
       "      <th>3</th>\n",
       "      <td>sherlock</td>\n",
       "      <td>41.678223</td>\n",
       "      <td>32.507096</td>\n",
       "      <td>0.727999</td>\n",
       "      <td>0.718571</td>\n",
       "      <td>0.710978</td>\n",
       "    </tr>\n",
       "  </tbody>\n",
       "</table>\n",
       "</div>"
      ],
      "text/plain": [
       "                     Model       SARI       BLEU BERT_Precision BERT_Recall  \\\n",
       "0           sherlock-tuned  29.026455  13.920342       0.165944    0.419068   \n",
       "1  sherlock-tuned-1st-sent  31.511215  70.734145       0.836306    0.817823   \n",
       "2        sherlock-1st-sent  41.703331  37.078327       0.742287    0.717957   \n",
       "3                 sherlock  41.678223  32.507096       0.727999    0.718571   \n",
       "\n",
       "    BERT_F1  \n",
       "0  0.279759  \n",
       "1   0.81757  \n",
       "2  0.717788  \n",
       "3  0.710978  "
      ]
     },
     "execution_count": 19,
     "metadata": {},
     "output_type": "execute_result"
    }
   ],
   "source": [
    "df"
   ]
  }
 ],
 "metadata": {
  "kernelspec": {
   "display_name": "muss",
   "language": "python",
   "name": "muss"
  },
  "language_info": {
   "codemirror_mode": {
    "name": "ipython",
    "version": 3
   },
   "file_extension": ".py",
   "mimetype": "text/x-python",
   "name": "python",
   "nbconvert_exporter": "python",
   "pygments_lexer": "ipython3",
   "version": "3.7.16"
  },
  "orig_nbformat": 4
 },
 "nbformat": 4,
 "nbformat_minor": 2
}
